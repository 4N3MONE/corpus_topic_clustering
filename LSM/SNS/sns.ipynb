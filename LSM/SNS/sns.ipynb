{
 "cells": [
  {
   "cell_type": "code",
   "execution_count": 1,
   "metadata": {},
   "outputs": [],
   "source": [
    "import os\n",
    "import json\n",
    "import re"
   ]
  },
  {
   "cell_type": "code",
   "execution_count": null,
   "metadata": {},
   "outputs": [],
   "source": [
    "%ls"
   ]
  },
  {
   "cell_type": "code",
   "execution_count": 2,
   "metadata": {},
   "outputs": [],
   "source": [
    "def find_json(root):\n",
    "    results = []\n",
    "    for file in os.listdir(root):\n",
    "        if file == 'result':\n",
    "            continue\n",
    "        filepath = os.path.join(root, file)\n",
    "        if(file.split('.')[-1] == 'json'):\n",
    "            results.append(filepath)\n",
    "        if os.path.isdir(filepath):\n",
    "            results.extend(find_json(filepath))\n",
    "    return results"
   ]
  },
  {
   "cell_type": "code",
   "execution_count": 3,
   "metadata": {},
   "outputs": [
    {
     "data": {
      "text/plain": [
       "['./한국어_SNS 3/Training/[라벨]한국어SNS_train/식음료.json',\n",
       " './개인및관계-002.json',\n",
       " './한국어_SNS 2/Training/[라벨]한국어SNS_train/상거래(쇼핑).json',\n",
       " './한국어_SNS 2/Training/[라벨]한국어SNS_train/미용과건강.json',\n",
       " './한국어_SNS 2/Training/[라벨]한국어SNS_train/시사교육.json',\n",
       " './한국어_SNS 2/Training/[라벨]한국어SNS_train/행사.json',\n",
       " './한국어_SNS 2/Training/[라벨]한국어SNS_valid/여가생활.json',\n",
       " './한국어_SNS 2/Training/[라벨]한국어SNS_valid/개인및관계.json',\n",
       " './한국어_SNS 2/Validation/[라벨]한국어SNS_valid/상거래(쇼핑).json',\n",
       " './한국어_SNS 2/Validation/[라벨]한국어SNS_valid/식음료.json',\n",
       " './한국어_SNS 2/Validation/[라벨]한국어SNS_valid/미용과건강.json',\n",
       " './한국어_SNS 2/Validation/[라벨]한국어SNS_valid/여가생활.json',\n",
       " './한국어_SNS 2/Validation/[라벨]한국어SNS_valid/시사교육.json',\n",
       " './한국어_SNS 2/Validation/[라벨]한국어SNS_valid/일과직업.json',\n",
       " './한국어_SNS 2/Validation/[라벨]한국어SNS_valid/개인및관계.json',\n",
       " './한국어_SNS 2/Validation/[라벨]한국어SNS_valid/행사.json',\n",
       " './한국어_SNS 2/Validation/[라벨]한국어SNS_valid/주거와생활.json',\n",
       " './한국어_SNS/Training/[라벨]한국어SNS_train/여가생활.json',\n",
       " './한국어_SNS/Training/[라벨]한국어SNS_train/일과직업.json',\n",
       " './한국어_SNS/Training/[라벨]한국어SNS_train/주거와생활.json',\n",
       " './한국어_SNS/Training/[라벨]한국어SNS_valid/상거래(쇼핑).json',\n",
       " './한국어_SNS/Training/[라벨]한국어SNS_valid/식음료.json',\n",
       " './한국어_SNS/Training/[라벨]한국어SNS_valid/미용과건강.json',\n",
       " './한국어_SNS/Training/[라벨]한국어SNS_valid/시사교육.json',\n",
       " './한국어_SNS/Training/[라벨]한국어SNS_valid/일과직업.json',\n",
       " './한국어_SNS/Training/[라벨]한국어SNS_valid/행사.json',\n",
       " './한국어_SNS/Training/[라벨]한국어SNS_valid/주거와생활.json']"
      ]
     },
     "execution_count": 3,
     "metadata": {},
     "output_type": "execute_result"
    }
   ],
   "source": [
    "filepaths = find_json('.')\n",
    "filepaths"
   ]
  },
  {
   "cell_type": "code",
   "execution_count": 4,
   "metadata": {},
   "outputs": [],
   "source": [
    "with open(filepaths[0], 'r') as f:\n",
    "    data = json.load(f)"
   ]
  },
  {
   "cell_type": "code",
   "execution_count": 5,
   "metadata": {},
   "outputs": [],
   "source": [
    "def extract_participants(data):\n",
    "    participant = {}\n",
    "    for i, info in enumerate(data['header']['participantsInfo']):\n",
    "        participant[info['participantID']] = f'화자{i + 1}'\n",
    "    return participant"
   ]
  },
  {
   "cell_type": "code",
   "execution_count": 6,
   "metadata": {},
   "outputs": [],
   "source": [
    "def regex(uttr):\n",
    "    uttr = re.sub(r'#@시스템#사진#', '', uttr)\n",
    "    uttr = re.sub(r'#@[가-힣]+#', '', uttr)\n",
    "    uttr = re.sub(r'\\.+', '...', uttr)\n",
    "    return uttr"
   ]
  },
  {
   "cell_type": "code",
   "execution_count": 7,
   "metadata": {},
   "outputs": [],
   "source": [
    "def extract_conversation(data, i):\n",
    "    participant = extract_participants(data['data'][i])\n",
    "    conversation = ''\n",
    "    for utterance in data['data'][i]['body']:\n",
    "        uttr = regex(utterance['utterance'])\n",
    "        if uttr == '':\n",
    "            continue\n",
    "        conversation += f\"{participant[utterance['participantID']]}: {uttr}\\n\"\n",
    "    return conversation"
   ]
  },
  {
   "cell_type": "code",
   "execution_count": 8,
   "metadata": {},
   "outputs": [],
   "source": [
    "HEADER_INDEX = \"sns_\"\n",
    "global_index = 0\n",
    "sns_data = {'data' : []}"
   ]
  },
  {
   "cell_type": "code",
   "execution_count": 9,
   "metadata": {},
   "outputs": [],
   "source": [
    "def extract(file):\n",
    "    global global_index, sns_data\n",
    "    print(\"data loading: \", file)\n",
    "    with open(file, 'r') as f:\n",
    "        data = json.load(f)\n",
    "    print(\"data loaded: \", file)\n",
    "    for i in range(data['numberOfItems']):\n",
    "        res = extract_conversation(data, i)\n",
    "        if(res == ''):\n",
    "            continue\n",
    "        sns_data['data'].append({\n",
    "            '_id' : HEADER_INDEX + str(global_index),\n",
    "            'text' : res\n",
    "        })\n",
    "        global_index += 1\n",
    "    print(\"data extraction complete: \", file)\n",
    "    print(\"global index: \", global_index)"
   ]
  },
  {
   "cell_type": "code",
   "execution_count": 10,
   "metadata": {},
   "outputs": [
    {
     "name": "stdout",
     "output_type": "stream",
     "text": [
      "data loading:  ./한국어_SNS 3/Training/[라벨]한국어SNS_train/식음료.json\n",
      "data loaded:  ./한국어_SNS 3/Training/[라벨]한국어SNS_train/식음료.json\n",
      "data extraction complete:  ./한국어_SNS 3/Training/[라벨]한국어SNS_train/식음료.json\n",
      "global index:  146620\n",
      "data loading:  ./개인및관계-002.json\n",
      "data loaded:  ./개인및관계-002.json\n",
      "data extraction complete:  ./개인및관계-002.json\n",
      "global index:  658116\n",
      "data loading:  ./한국어_SNS 2/Training/[라벨]한국어SNS_train/상거래(쇼핑).json\n",
      "data loaded:  ./한국어_SNS 2/Training/[라벨]한국어SNS_train/상거래(쇼핑).json\n",
      "data extraction complete:  ./한국어_SNS 2/Training/[라벨]한국어SNS_train/상거래(쇼핑).json\n",
      "global index:  773619\n",
      "data loading:  ./한국어_SNS 2/Training/[라벨]한국어SNS_train/미용과건강.json\n",
      "data loaded:  ./한국어_SNS 2/Training/[라벨]한국어SNS_train/미용과건강.json\n",
      "data extraction complete:  ./한국어_SNS 2/Training/[라벨]한국어SNS_train/미용과건강.json\n",
      "global index:  873002\n",
      "data loading:  ./한국어_SNS 2/Training/[라벨]한국어SNS_train/시사교육.json\n",
      "data loaded:  ./한국어_SNS 2/Training/[라벨]한국어SNS_train/시사교육.json\n",
      "data extraction complete:  ./한국어_SNS 2/Training/[라벨]한국어SNS_train/시사교육.json\n",
      "global index:  962977\n",
      "data loading:  ./한국어_SNS 2/Training/[라벨]한국어SNS_train/행사.json\n",
      "data loaded:  ./한국어_SNS 2/Training/[라벨]한국어SNS_train/행사.json\n",
      "data extraction complete:  ./한국어_SNS 2/Training/[라벨]한국어SNS_train/행사.json\n",
      "global index:  1104182\n",
      "data loading:  ./한국어_SNS 2/Training/[라벨]한국어SNS_valid/여가생활.json\n",
      "data loaded:  ./한국어_SNS 2/Training/[라벨]한국어SNS_valid/여가생활.json\n",
      "data extraction complete:  ./한국어_SNS 2/Training/[라벨]한국어SNS_valid/여가생활.json\n",
      "global index:  1127971\n",
      "data loading:  ./한국어_SNS 2/Training/[라벨]한국어SNS_valid/개인및관계.json\n",
      "data loaded:  ./한국어_SNS 2/Training/[라벨]한국어SNS_valid/개인및관계.json\n",
      "data extraction complete:  ./한국어_SNS 2/Training/[라벨]한국어SNS_valid/개인및관계.json\n",
      "global index:  1191909\n",
      "data loading:  ./한국어_SNS 2/Validation/[라벨]한국어SNS_valid/상거래(쇼핑).json\n",
      "data loaded:  ./한국어_SNS 2/Validation/[라벨]한국어SNS_valid/상거래(쇼핑).json\n",
      "data extraction complete:  ./한국어_SNS 2/Validation/[라벨]한국어SNS_valid/상거래(쇼핑).json\n",
      "global index:  1206348\n",
      "data loading:  ./한국어_SNS 2/Validation/[라벨]한국어SNS_valid/식음료.json\n",
      "data loaded:  ./한국어_SNS 2/Validation/[라벨]한국어SNS_valid/식음료.json\n",
      "data extraction complete:  ./한국어_SNS 2/Validation/[라벨]한국어SNS_valid/식음료.json\n",
      "global index:  1224676\n",
      "data loading:  ./한국어_SNS 2/Validation/[라벨]한국어SNS_valid/미용과건강.json\n",
      "data loaded:  ./한국어_SNS 2/Validation/[라벨]한국어SNS_valid/미용과건강.json\n",
      "data extraction complete:  ./한국어_SNS 2/Validation/[라벨]한국어SNS_valid/미용과건강.json\n",
      "global index:  1237099\n",
      "data loading:  ./한국어_SNS 2/Validation/[라벨]한국어SNS_valid/여가생활.json\n",
      "data loaded:  ./한국어_SNS 2/Validation/[라벨]한국어SNS_valid/여가생활.json\n",
      "data extraction complete:  ./한국어_SNS 2/Validation/[라벨]한국어SNS_valid/여가생활.json\n",
      "global index:  1260888\n",
      "data loading:  ./한국어_SNS 2/Validation/[라벨]한국어SNS_valid/시사교육.json\n",
      "data loaded:  ./한국어_SNS 2/Validation/[라벨]한국어SNS_valid/시사교육.json\n",
      "data extraction complete:  ./한국어_SNS 2/Validation/[라벨]한국어SNS_valid/시사교육.json\n",
      "global index:  1272135\n",
      "data loading:  ./한국어_SNS 2/Validation/[라벨]한국어SNS_valid/일과직업.json\n",
      "data loaded:  ./한국어_SNS 2/Validation/[라벨]한국어SNS_valid/일과직업.json\n",
      "data extraction complete:  ./한국어_SNS 2/Validation/[라벨]한국어SNS_valid/일과직업.json\n",
      "global index:  1285633\n",
      "data loading:  ./한국어_SNS 2/Validation/[라벨]한국어SNS_valid/개인및관계.json\n",
      "data loaded:  ./한국어_SNS 2/Validation/[라벨]한국어SNS_valid/개인및관계.json\n",
      "data extraction complete:  ./한국어_SNS 2/Validation/[라벨]한국어SNS_valid/개인및관계.json\n",
      "global index:  1349571\n",
      "data loading:  ./한국어_SNS 2/Validation/[라벨]한국어SNS_valid/행사.json\n",
      "data loaded:  ./한국어_SNS 2/Validation/[라벨]한국어SNS_valid/행사.json\n",
      "data extraction complete:  ./한국어_SNS 2/Validation/[라벨]한국어SNS_valid/행사.json\n",
      "global index:  1367222\n",
      "data loading:  ./한국어_SNS 2/Validation/[라벨]한국어SNS_valid/주거와생활.json\n",
      "data loaded:  ./한국어_SNS 2/Validation/[라벨]한국어SNS_valid/주거와생활.json\n",
      "data extraction complete:  ./한국어_SNS 2/Validation/[라벨]한국어SNS_valid/주거와생활.json\n",
      "global index:  1391913\n",
      "data loading:  ./한국어_SNS/Training/[라벨]한국어SNS_train/여가생활.json\n",
      "data loaded:  ./한국어_SNS/Training/[라벨]한국어SNS_train/여가생활.json\n",
      "data extraction complete:  ./한국어_SNS/Training/[라벨]한국어SNS_train/여가생활.json\n",
      "global index:  1582219\n",
      "data loading:  ./한국어_SNS/Training/[라벨]한국어SNS_train/일과직업.json\n",
      "data loaded:  ./한국어_SNS/Training/[라벨]한국어SNS_train/일과직업.json\n",
      "data extraction complete:  ./한국어_SNS/Training/[라벨]한국어SNS_train/일과직업.json\n",
      "global index:  1690195\n",
      "data loading:  ./한국어_SNS/Training/[라벨]한국어SNS_train/주거와생활.json\n",
      "data loaded:  ./한국어_SNS/Training/[라벨]한국어SNS_train/주거와생활.json\n",
      "data extraction complete:  ./한국어_SNS/Training/[라벨]한국어SNS_train/주거와생활.json\n",
      "global index:  1887723\n",
      "data loading:  ./한국어_SNS/Training/[라벨]한국어SNS_valid/상거래(쇼핑).json\n",
      "data loaded:  ./한국어_SNS/Training/[라벨]한국어SNS_valid/상거래(쇼핑).json\n",
      "data extraction complete:  ./한국어_SNS/Training/[라벨]한국어SNS_valid/상거래(쇼핑).json\n",
      "global index:  1902162\n",
      "data loading:  ./한국어_SNS/Training/[라벨]한국어SNS_valid/식음료.json\n",
      "data loaded:  ./한국어_SNS/Training/[라벨]한국어SNS_valid/식음료.json\n",
      "data extraction complete:  ./한국어_SNS/Training/[라벨]한국어SNS_valid/식음료.json\n",
      "global index:  1920490\n",
      "data loading:  ./한국어_SNS/Training/[라벨]한국어SNS_valid/미용과건강.json\n",
      "data loaded:  ./한국어_SNS/Training/[라벨]한국어SNS_valid/미용과건강.json\n",
      "data extraction complete:  ./한국어_SNS/Training/[라벨]한국어SNS_valid/미용과건강.json\n",
      "global index:  1932913\n",
      "data loading:  ./한국어_SNS/Training/[라벨]한국어SNS_valid/시사교육.json\n",
      "data loaded:  ./한국어_SNS/Training/[라벨]한국어SNS_valid/시사교육.json\n",
      "data extraction complete:  ./한국어_SNS/Training/[라벨]한국어SNS_valid/시사교육.json\n",
      "global index:  1944160\n",
      "data loading:  ./한국어_SNS/Training/[라벨]한국어SNS_valid/일과직업.json\n",
      "data loaded:  ./한국어_SNS/Training/[라벨]한국어SNS_valid/일과직업.json\n",
      "data extraction complete:  ./한국어_SNS/Training/[라벨]한국어SNS_valid/일과직업.json\n",
      "global index:  1957658\n",
      "data loading:  ./한국어_SNS/Training/[라벨]한국어SNS_valid/행사.json\n",
      "data loaded:  ./한국어_SNS/Training/[라벨]한국어SNS_valid/행사.json\n",
      "data extraction complete:  ./한국어_SNS/Training/[라벨]한국어SNS_valid/행사.json\n",
      "global index:  1975309\n",
      "data loading:  ./한국어_SNS/Training/[라벨]한국어SNS_valid/주거와생활.json\n",
      "data loaded:  ./한국어_SNS/Training/[라벨]한국어SNS_valid/주거와생활.json\n",
      "data extraction complete:  ./한국어_SNS/Training/[라벨]한국어SNS_valid/주거와생활.json\n",
      "global index:  2000000\n"
     ]
    }
   ],
   "source": [
    "for file in filepaths:\n",
    "    extract(file)"
   ]
  },
  {
   "cell_type": "code",
   "execution_count": null,
   "metadata": {},
   "outputs": [],
   "source": [
    "sns_data['data'][1000000]"
   ]
  },
  {
   "cell_type": "code",
   "execution_count": 11,
   "metadata": {},
   "outputs": [],
   "source": [
    "with open('result/sns_data.json', 'w') as f:\n",
    "    json.dump(sns_data, f, ensure_ascii=False)"
   ]
  }
 ],
 "metadata": {
  "kernelspec": {
   "display_name": "proj_skt_corpus",
   "language": "python",
   "name": "python3"
  },
  "language_info": {
   "codemirror_mode": {
    "name": "ipython",
    "version": 3
   },
   "file_extension": ".py",
   "mimetype": "text/x-python",
   "name": "python",
   "nbconvert_exporter": "python",
   "pygments_lexer": "ipython3",
   "version": "3.9.16"
  },
  "orig_nbformat": 4
 },
 "nbformat": 4,
 "nbformat_minor": 2
}
